{
 "cells": [
  {
   "cell_type": "code",
   "id": "initial_id",
   "metadata": {
    "collapsed": true,
    "ExecuteTime": {
     "end_time": "2024-10-31T09:50:25.536772Z",
     "start_time": "2024-10-31T09:50:24.662996Z"
    }
   },
   "source": "from ucimlrepo import fetch_ucirepo",
   "outputs": [],
   "execution_count": 1
  },
  {
   "metadata": {
    "ExecuteTime": {
     "end_time": "2024-10-31T09:59:49.220601Z",
     "start_time": "2024-10-31T09:59:46.447173Z"
    }
   },
   "cell_type": "code",
   "source": [
    "# fetch dataset \n",
    "connectionist_bench_sonar_mines_vs_rocks = fetch_ucirepo(id=151)"
   ],
   "id": "da40de0c2ee6381e",
   "outputs": [],
   "execution_count": 2
  },
  {
   "metadata": {
    "ExecuteTime": {
     "end_time": "2024-10-31T09:59:50.911112Z",
     "start_time": "2024-10-31T09:59:50.908353Z"
    }
   },
   "cell_type": "code",
   "source": [
    "# data (as pandas dataframes) \n",
    "X = connectionist_bench_sonar_mines_vs_rocks.data.features\n",
    "y = connectionist_bench_sonar_mines_vs_rocks.data.targets"
   ],
   "id": "80b2c0ef21865927",
   "outputs": [],
   "execution_count": 3
  },
  {
   "metadata": {
    "ExecuteTime": {
     "end_time": "2024-10-31T10:00:03.964125Z",
     "start_time": "2024-10-31T10:00:03.959677Z"
    }
   },
   "cell_type": "code",
   "source": [
    "# metadata \n",
    "print(connectionist_bench_sonar_mines_vs_rocks.metadata)"
   ],
   "id": "59cbedcc99d66b7a",
   "outputs": [
    {
     "name": "stdout",
     "output_type": "stream",
     "text": [
      "{'uci_id': 151, 'name': 'Connectionist Bench (Sonar, Mines vs. Rocks)', 'repository_url': 'https://archive.ics.uci.edu/dataset/151/connectionist+bench+sonar+mines+vs+rocks', 'data_url': 'https://archive.ics.uci.edu/static/public/151/data.csv', 'abstract': 'The task is to train a network to discriminate between sonar signals bounced off a metal cylinder and those bounced off a roughly cylindrical rock.', 'area': 'Physics and Chemistry', 'tasks': ['Classification'], 'characteristics': ['Multivariate'], 'num_instances': 208, 'num_features': 60, 'feature_types': ['Real'], 'demographics': [], 'target_col': ['class'], 'index_col': None, 'has_missing_values': 'no', 'missing_values_symbol': None, 'year_of_dataset_creation': 1988, 'last_updated': None, 'dataset_doi': '10.24432/C5T01Q', 'creators': ['Terry Sejnowski', 'R. Gorman'], 'intro_paper': None, 'additional_info': {'summary': 'The file \"sonar.mines\" contains 111 patterns obtained by bouncing sonar signals off a metal cylinder at various angles and under various conditions.  The file \"sonar.rocks\" contains 97 patterns obtained from rocks under similar conditions.  The transmitted sonar signal is a frequency-modulated chirp, rising in frequency.  The data set contains signals obtained from a variety of different aspect angles, spanning 90 degrees for the cylinder and 180 degrees for the rock.\\r\\n\\r\\nEach pattern is a set of 60 numbers in the range 0.0 to 1.0.  Each number represents the energy within a particular frequency band, integrated over a certain period of time.  The integration aperture for higher frequencies occur later in time, since these frequencies are transmitted later during the chirp.\\r\\n\\r\\nThe label associated with each record contains the letter \"R\" if the object is a rock and \"M\" if it is a mine (metal cylinder).  The numbers in the labels are in increasing order of aspect angle, but they do not encode the angle directly.', 'purpose': None, 'funded_by': None, 'instances_represent': None, 'recommended_data_splits': None, 'sensitive_data': None, 'preprocessing_description': None, 'variable_info': None, 'citation': None}}\n"
     ]
    }
   ],
   "execution_count": 4
  },
  {
   "metadata": {
    "ExecuteTime": {
     "end_time": "2024-10-31T10:00:09.488902Z",
     "start_time": "2024-10-31T10:00:09.482754Z"
    }
   },
   "cell_type": "code",
   "source": [
    "# variable information \n",
    "print(connectionist_bench_sonar_mines_vs_rocks.variables) "
   ],
   "id": "982606d58ae7b534",
   "outputs": [
    {
     "name": "stdout",
     "output_type": "stream",
     "text": [
      "           name     role         type demographic description units  \\\n",
      "0    Attribute1  Feature   Continuous        None        None  None   \n",
      "1    Attribute2  Feature   Continuous        None        None  None   \n",
      "2    Attribute3  Feature   Continuous        None        None  None   \n",
      "3    Attribute4  Feature   Continuous        None        None  None   \n",
      "4    Attribute5  Feature   Continuous        None        None  None   \n",
      "..          ...      ...          ...         ...         ...   ...   \n",
      "56  Attribute57  Feature   Continuous        None        None  None   \n",
      "57  Attribute58  Feature   Continuous        None        None  None   \n",
      "58  Attribute59  Feature   Continuous        None        None  None   \n",
      "59  Attribute60  Feature   Continuous        None        None  None   \n",
      "60        class   Target  Categorical        None        None  None   \n",
      "\n",
      "   missing_values  \n",
      "0              no  \n",
      "1              no  \n",
      "2              no  \n",
      "3              no  \n",
      "4              no  \n",
      "..            ...  \n",
      "56             no  \n",
      "57             no  \n",
      "58             no  \n",
      "59             no  \n",
      "60             no  \n",
      "\n",
      "[61 rows x 7 columns]\n"
     ]
    }
   ],
   "execution_count": 5
  }
 ],
 "metadata": {
  "kernelspec": {
   "display_name": "Python 3",
   "language": "python",
   "name": "python3"
  },
  "language_info": {
   "codemirror_mode": {
    "name": "ipython",
    "version": 2
   },
   "file_extension": ".py",
   "mimetype": "text/x-python",
   "name": "python",
   "nbconvert_exporter": "python",
   "pygments_lexer": "ipython2",
   "version": "2.7.6"
  }
 },
 "nbformat": 4,
 "nbformat_minor": 5
}
